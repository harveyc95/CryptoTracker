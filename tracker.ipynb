{
 "cells": [
  {
   "cell_type": "code",
   "execution_count": 4,
   "metadata": {},
   "outputs": [],
   "source": [
    "import urllib2\n",
    "import json"
   ]
  },
  {
   "cell_type": "code",
   "execution_count": 24,
   "metadata": {},
   "outputs": [],
   "source": [
    "def getPrice(coin, currency):\n",
    "    link = 'https://api.cryptonator.com/api/ticker/'\n",
    "    link = link + \"-\".join([coin, currency])\n",
    "    response = urllib2.urlopen(link)\n",
    "    html = response.read()\n",
    "    data = json.loads(html)\n",
    "    return data[\"ticker\"][\"price\"]"
   ]
  },
  {
   "cell_type": "code",
   "execution_count": 25,
   "metadata": {},
   "outputs": [
    {
     "name": "stdout",
     "output_type": "stream",
     "text": [
      "598.90000000\n",
      "10710.65749129\n"
     ]
    }
   ],
   "source": [
    "price = getPrice('eth', 'cad')\n",
    "print price\n",
    "price = getPrice('btc', 'usd')\n",
    "print price"
   ]
  },
  {
   "cell_type": "code",
   "execution_count": null,
   "metadata": {},
   "outputs": [],
   "source": []
  }
 ],
 "metadata": {
  "kernelspec": {
   "display_name": "Python 2",
   "language": "python",
   "name": "python2"
  },
  "language_info": {
   "codemirror_mode": {
    "name": "ipython",
    "version": 2
   },
   "file_extension": ".py",
   "mimetype": "text/x-python",
   "name": "python",
   "nbconvert_exporter": "python",
   "pygments_lexer": "ipython2",
   "version": "2.7.10"
  }
 },
 "nbformat": 4,
 "nbformat_minor": 2
}
